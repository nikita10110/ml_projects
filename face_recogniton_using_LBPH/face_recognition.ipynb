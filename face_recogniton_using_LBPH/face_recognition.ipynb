{
  "nbformat": 4,
  "nbformat_minor": 0,
  "metadata": {
    "colab": {
      "name": "facerecognitionhaarcascade.ipynb",
      "provenance": []
    },
    "kernelspec": {
      "display_name": "Python 3",
      "language": "python",
      "name": "python3"
    },
    "language_info": {
      "codemirror_mode": {
        "name": "ipython",
        "version": 3
      },
      "file_extension": ".py",
      "mimetype": "text/x-python",
      "name": "python",
      "nbconvert_exporter": "python",
      "pygments_lexer": "ipython3",
      "version": "3.8.3"
    }
  },
  "cells": [
    {
      "cell_type": "code",
      "metadata": {
        "colab": {
          "base_uri": "https://localhost:8080/"
        },
        "id": "GUBTgaRPd3XP",
        "outputId": "efefcdf8-3de8-4643-8e34-c1f5463f4411"
      },
      "source": [
        "from google.colab import drive\n",
        "drive.mount('/content/drive')\n"
      ],
      "execution_count": 15,
      "outputs": [
        {
          "output_type": "stream",
          "text": [
            "Drive already mounted at /content/drive; to attempt to forcibly remount, call drive.mount(\"/content/drive\", force_remount=True).\n"
          ],
          "name": "stdout"
        }
      ]
    },
    {
      "cell_type": "code",
      "metadata": {
        "id": "Zlthx-f6c0t9"
      },
      "source": [
        "import numpy as np\n",
        "import cv2 as cv\n",
        "import pandas as pd\n",
        "import os\n",
        "import glob\n",
        "import matplotlib.pyplot as plt\n",
        "%matplotlib inline\n",
        "\n",
        "datapath = r\"/content/drive/MyDrive/bigdatacrop/train\"\n",
        "datapath1 = r\"/content/drive/MyDrive/bigdatacrop/val\""
      ],
      "execution_count": 28,
      "outputs": []
    },
    {
      "cell_type": "code",
      "metadata": {
        "id": "x1mKyyu5c0t_"
      },
      "source": [
        "def get_p(datapath1):\n",
        "    gt_data1 = next(os.walk(datapath1))\n",
        "    #print(\"gt_data\",gt_data1)\n",
        "    pred_dataframe1 = {'img':list(),'label':list()}\n",
        "    gt_dataframe1 = {'img':list(),'label':list()}\n",
        "    for label in gt_data1[1]:\n",
        "        img_folder = os.path.join(gt_data1[0], label)\n",
        "        imgpath = \"{}/*\".format(img_folder)\n",
        "        \n",
        "        for image in glob.glob(imgpath):\n",
        "            gt_dataframe1['img'].append(image)\n",
        "            gt_dataframe1['label'].append(label)\n",
        "            img = cv.imread(image)\n",
        "            gray = cv.cvtColor(img, cv.COLOR_BGR2GRAY)\n",
        "            #plt.imshow(gray,cmap='gray')\n",
        "            faces_rect = haar_cascade.detectMultiScale(gray, 1.1,4,flags=cv.CASCADE_SCALE_IMAGE)\n",
        "            for (x,y,w,h) in faces_rect:\n",
        "                faces_roi = gray[y:y+h,x:x+w]\n",
        "                pr_label1, confidence = face_recognizer.predict(faces_roi)\n",
        "                #plt.imshow(faces_roi,cmap='gray')\n",
        "                pred_dataframe1['img'].append(image)\n",
        "                pred_dataframe1['label'].append(people[pr_label1])\n",
        "                #figure,ax = plt.subplots(1,2,figsize=(16,9))\n",
        "                #ax[0].imshow(faces_roi, cmap='gray')\n",
        "                #ax[1].imshow(gray, cmap='gray')\n",
        "\n",
        "              \n",
        "    pred_dataframe1 = pd.DataFrame(pred_dataframe1)\n",
        "    gt_dataframe1 = pd.DataFrame(gt_dataframe1)\n",
        "    print(pred_dataframe1)\n",
        "    \n",
        "    return pred_dataframe1, gt_dataframe1\n"
      ],
      "execution_count": 29,
      "outputs": []
    },
    {
      "cell_type": "code",
      "metadata": {
        "id": "Jd4Y3rrFc0uB"
      },
      "source": [
        "people=[]\n",
        "for i in os.listdir(datapath):\n",
        "    people.append(i)\n",
        "haar_cascade =  cv.CascadeClassifier(cv.data.haarcascades + 'haarcascade_frontalface_default.xml')\n",
        "features = np.load('/content/drive/MyDrive/features.npy',allow_pickle = True)\n",
        "labels = np.load('/content/drive/MyDrive/labels.npy')\n",
        "face_recognizer = cv.face.LBPHFaceRecognizer_create(radius=8, neighbors=8, grid_x=8, grid_y=8,threshold = 1000)\n",
        "face_recognizer.read(r'/content/drive/MyDrive/face_model.yml')\n"
      ],
      "execution_count": 30,
      "outputs": []
    },
    {
      "cell_type": "code",
      "metadata": {
        "id": "vgFHSV7Gc0uC"
      },
      "source": [
        "def get_accuracy(dict1):\n",
        "    count =0\n",
        "    samples =0\n",
        "    samples=0\n",
        "    for gt_label1, pred_label1 in zip(dict2['gt'],dict2['preds']):\n",
        "        samples = samples+1\n",
        "        if(gt_label1==pred_label1):\n",
        "            count=count+1\n",
        "    return count/samples"
      ],
      "execution_count": 31,
      "outputs": []
    },
    {
      "cell_type": "code",
      "metadata": {
        "colab": {
          "base_uri": "https://localhost:8080/"
        },
        "id": "yVto2JoRc0uD",
        "outputId": "8d568e15-42d3-41b2-8198-fe0839af566e"
      },
      "source": [
        "\n",
        "pred_dataframe1, gt_dataframe1= get_p(datapath1)\n"
      ],
      "execution_count": 34,
      "outputs": [
        {
          "output_type": "stream",
          "text": [
            "                                                  img label\n",
            "0   /content/drive/MyDrive/bigdatacrop/val/s20/01.jpg   s20\n",
            "1   /content/drive/MyDrive/bigdatacrop/val/s20/02.jpg   s20\n",
            "2   /content/drive/MyDrive/bigdatacrop/val/s13/01.jpg   s13\n",
            "3   /content/drive/MyDrive/bigdatacrop/val/s13/03.jpg   s13\n",
            "4   /content/drive/MyDrive/bigdatacrop/val/s13/05.jpg   s13\n",
            "..                                                ...   ...\n",
            "72  /content/drive/MyDrive/bigdatacrop/val/s10/05.jpg   s10\n",
            "73  /content/drive/MyDrive/bigdatacrop/val/s08/01.jpg   s08\n",
            "74  /content/drive/MyDrive/bigdatacrop/val/s08/03.jpg   s08\n",
            "75  /content/drive/MyDrive/bigdatacrop/val/s08/04.jpg   s08\n",
            "76  /content/drive/MyDrive/bigdatacrop/val/s08/02.jpg   s08\n",
            "\n",
            "[77 rows x 2 columns]\n"
          ],
          "name": "stdout"
        }
      ]
    },
    {
      "cell_type": "code",
      "metadata": {
        "colab": {
          "base_uri": "https://localhost:8080/"
        },
        "id": "8lZ3omqNc0uE",
        "outputId": "cd72c071-1a55-470d-9b08-e62cfc4bbdf8"
      },
      "source": [
        "dict2={\"gt\":gt_dataframe1['label'], \"preds\":pred_dataframe1['label']}\n",
        "accuracy = get_accuracy(dict2)\n",
        "print(accuracy)\n"
      ],
      "execution_count": 35,
      "outputs": [
        {
          "output_type": "stream",
          "text": [
            "0.974025974025974\n"
          ],
          "name": "stdout"
        }
      ]
    },
    {
      "cell_type": "code",
      "metadata": {
        "id": "jGfCwILvheiJ"
      },
      "source": [
        ""
      ],
      "execution_count": null,
      "outputs": []
    }
  ]
}